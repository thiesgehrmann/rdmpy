{
 "cells": [
  {
   "cell_type": "code",
   "execution_count": 1,
   "id": "e323f385-10ce-4eb1-a4d3-45798f923ef9",
   "metadata": {},
   "outputs": [],
   "source": [
    "from rdmpy import RDM\n",
    "# Set global metadata variables\n",
    "RDM.meta(mysource=\"github/thiesgehrmann/rdmpy/example.ipynb\")\n",
    "\n",
    "filename = './anywhere/you/want/your_new_file.csv'"
   ]
  },
  {
   "cell_type": "code",
   "execution_count": 2,
   "id": "8f36bf72-6e6e-4c9d-bc82-edc6612ed966",
   "metadata": {},
   "outputs": [
    {
     "data": {
      "text/html": [
       "<div>\n",
       "<style scoped>\n",
       "    .dataframe tbody tr th:only-of-type {\n",
       "        vertical-align: middle;\n",
       "    }\n",
       "\n",
       "    .dataframe tbody tr th {\n",
       "        vertical-align: top;\n",
       "    }\n",
       "\n",
       "    .dataframe thead th {\n",
       "        text-align: right;\n",
       "    }\n",
       "</style>\n",
       "<table border=\"1\" class=\"dataframe\">\n",
       "  <thead>\n",
       "    <tr style=\"text-align: right;\">\n",
       "      <th></th>\n",
       "      <th>a</th>\n",
       "      <th>b</th>\n",
       "      <th>c</th>\n",
       "    </tr>\n",
       "  </thead>\n",
       "  <tbody>\n",
       "    <tr>\n",
       "      <th>0</th>\n",
       "      <td>1</td>\n",
       "      <td>2</td>\n",
       "      <td>3</td>\n",
       "    </tr>\n",
       "    <tr>\n",
       "      <th>1</th>\n",
       "      <td>4</td>\n",
       "      <td>5</td>\n",
       "      <td>6</td>\n",
       "    </tr>\n",
       "    <tr>\n",
       "      <th>2</th>\n",
       "      <td>7</td>\n",
       "      <td>8</td>\n",
       "      <td>9</td>\n",
       "    </tr>\n",
       "  </tbody>\n",
       "</table>\n",
       "</div>"
      ],
      "text/plain": [
       "   a  b  c\n",
       "0  1  2  3\n",
       "1  4  5  6\n",
       "2  7  8  9"
      ]
     },
     "execution_count": 2,
     "metadata": {},
     "output_type": "execute_result"
    }
   ],
   "source": [
    "# Some data we want to write\n",
    "import pandas as pd\n",
    "D = pd.DataFrame([[1,2,3],[4,5,6],[7,8,9]], columns=['a','b','c'])\n",
    "\n",
    "D"
   ]
  },
  {
   "cell_type": "code",
   "execution_count": 3,
   "id": "55bddb83-6e39-47e0-b6c6-2d93f0e6a3fb",
   "metadata": {},
   "outputs": [],
   "source": [
    "# Write it within a with clause\n",
    "with RDM(filename, 'w') as ofd:\n",
    "    D.to_csv(ofd, index=False)\n",
    "#ewith\n",
    "\n",
    "# Write it within a with clause, but do it to the last version of the file, and update the modified timestamp\n",
    "with RDM(filename, 'rw') as ofd:\n",
    "    D.to_csv(ofd, index=False)\n",
    "#ewith\n",
    "\n",
    "# Write it within a with clause, but do it to the last version of the file, and do NOT update the modified timestamp\n",
    "with RDM(filename, 'rw', modified=False) as ofd:\n",
    "    D.to_csv(ofd, index=False)\n",
    "#ewith"
   ]
  },
  {
   "cell_type": "code",
   "execution_count": 4,
   "id": "626a22b4-4214-4c26-b377-951aecdab92a",
   "metadata": {},
   "outputs": [
    {
     "data": {
      "text/html": [
       "<div>\n",
       "<style scoped>\n",
       "    .dataframe tbody tr th:only-of-type {\n",
       "        vertical-align: middle;\n",
       "    }\n",
       "\n",
       "    .dataframe tbody tr th {\n",
       "        vertical-align: top;\n",
       "    }\n",
       "\n",
       "    .dataframe thead th {\n",
       "        text-align: right;\n",
       "    }\n",
       "</style>\n",
       "<table border=\"1\" class=\"dataframe\">\n",
       "  <thead>\n",
       "    <tr style=\"text-align: right;\">\n",
       "      <th></th>\n",
       "      <th>a</th>\n",
       "      <th>b</th>\n",
       "      <th>c</th>\n",
       "    </tr>\n",
       "  </thead>\n",
       "  <tbody>\n",
       "    <tr>\n",
       "      <th>0</th>\n",
       "      <td>1</td>\n",
       "      <td>2</td>\n",
       "      <td>3</td>\n",
       "    </tr>\n",
       "    <tr>\n",
       "      <th>1</th>\n",
       "      <td>4</td>\n",
       "      <td>5</td>\n",
       "      <td>6</td>\n",
       "    </tr>\n",
       "    <tr>\n",
       "      <th>2</th>\n",
       "      <td>7</td>\n",
       "      <td>8</td>\n",
       "      <td>9</td>\n",
       "    </tr>\n",
       "  </tbody>\n",
       "</table>\n",
       "</div>"
      ],
      "text/plain": [
       "   a  b  c\n",
       "0  1  2  3\n",
       "1  4  5  6\n",
       "2  7  8  9"
      ]
     },
     "execution_count": 4,
     "metadata": {},
     "output_type": "execute_result"
    }
   ],
   "source": [
    "# If we want to open the most recent file, we can do that by explicitly setting the read flag.\n",
    "with RDM(filename, 'r') as ifd:\n",
    "    X = pd.read_csv(ifd)\n",
    "#ewith\n",
    "\n",
    "X"
   ]
  }
 ],
 "metadata": {
  "kernelspec": {
   "display_name": "Python 3",
   "language": "python",
   "name": "python3"
  },
  "language_info": {
   "codemirror_mode": {
    "name": "ipython",
    "version": 3
   },
   "file_extension": ".py",
   "mimetype": "text/x-python",
   "name": "python",
   "nbconvert_exporter": "python",
   "pygments_lexer": "ipython3",
   "version": "3.8.10"
  }
 },
 "nbformat": 4,
 "nbformat_minor": 5
}
